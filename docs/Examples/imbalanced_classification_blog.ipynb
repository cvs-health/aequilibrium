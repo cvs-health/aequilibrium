{
 "cells": [
  {
   "cell_type": "code",
   "execution_count": 1,
   "id": "3b75fba4",
   "metadata": {},
   "outputs": [
    {
     "data": {
      "text/html": [
       "<style>.container { width:100% !important; }</style>"
      ],
      "text/plain": [
       "<IPython.core.display.HTML object>"
      ]
     },
     "metadata": {},
     "output_type": "display_data"
    }
   ],
   "source": [
    "## IMPORTS\n",
    "\n",
    "import matplotlib.pyplot as plt\n",
    "import numpy as np\n",
    "import pandas as pd\n",
    "from imblearn.over_sampling import SMOTE, RandomOverSampler\n",
    "from IPython.core.display import HTML, display\n",
    "from sklearn.ensemble import GradientBoostingClassifier\n",
    "from sklearn.metrics import (\n",
    "    PrecisionRecallDisplay,\n",
    "    accuracy_score,\n",
    "    auc,\n",
    "    precision_recall_curve,\n",
    "    precision_score,\n",
    "    recall_score,\n",
    "    roc_auc_score,\n",
    ")\n",
    "from sklearn.model_selection import train_test_split\n",
    "\n",
    "display(HTML(\"<style>.container { width:100% !important; }</style>\"))"
   ]
  },
  {
   "cell_type": "markdown",
   "id": "7e3cbd18",
   "metadata": {},
   "source": [
    "# Import Data (https://www.kaggle.com/datasets/shashwatwork/cerebral-stroke-predictionimbalaced-dataset)"
   ]
  },
  {
   "cell_type": "code",
   "execution_count": 2,
   "id": "0cea1568",
   "metadata": {},
   "outputs": [],
   "source": [
    "stroke_df = pd.read_csv(\"data/kaggle_stroke_dataset.csv\")"
   ]
  },
  {
   "cell_type": "code",
   "execution_count": 3,
   "id": "e51e56e9",
   "metadata": {},
   "outputs": [
    {
     "data": {
      "text/html": [
       "<div>\n",
       "<style scoped>\n",
       "    .dataframe tbody tr th:only-of-type {\n",
       "        vertical-align: middle;\n",
       "    }\n",
       "\n",
       "    .dataframe tbody tr th {\n",
       "        vertical-align: top;\n",
       "    }\n",
       "\n",
       "    .dataframe thead th {\n",
       "        text-align: right;\n",
       "    }\n",
       "</style>\n",
       "<table border=\"1\" class=\"dataframe\">\n",
       "  <thead>\n",
       "    <tr style=\"text-align: right;\">\n",
       "      <th></th>\n",
       "      <th>id</th>\n",
       "      <th>gender</th>\n",
       "      <th>age</th>\n",
       "      <th>hypertension</th>\n",
       "      <th>heart_disease</th>\n",
       "      <th>ever_married</th>\n",
       "      <th>work_type</th>\n",
       "      <th>Residence_type</th>\n",
       "      <th>avg_glucose_level</th>\n",
       "      <th>bmi</th>\n",
       "      <th>smoking_status</th>\n",
       "      <th>stroke</th>\n",
       "    </tr>\n",
       "  </thead>\n",
       "  <tbody>\n",
       "    <tr>\n",
       "      <th>0</th>\n",
       "      <td>30669</td>\n",
       "      <td>Male</td>\n",
       "      <td>3.0</td>\n",
       "      <td>0</td>\n",
       "      <td>0</td>\n",
       "      <td>No</td>\n",
       "      <td>children</td>\n",
       "      <td>Rural</td>\n",
       "      <td>95.12</td>\n",
       "      <td>18.0</td>\n",
       "      <td>NaN</td>\n",
       "      <td>0</td>\n",
       "    </tr>\n",
       "    <tr>\n",
       "      <th>1</th>\n",
       "      <td>30468</td>\n",
       "      <td>Male</td>\n",
       "      <td>58.0</td>\n",
       "      <td>1</td>\n",
       "      <td>0</td>\n",
       "      <td>Yes</td>\n",
       "      <td>Private</td>\n",
       "      <td>Urban</td>\n",
       "      <td>87.96</td>\n",
       "      <td>39.2</td>\n",
       "      <td>never smoked</td>\n",
       "      <td>0</td>\n",
       "    </tr>\n",
       "    <tr>\n",
       "      <th>2</th>\n",
       "      <td>16523</td>\n",
       "      <td>Female</td>\n",
       "      <td>8.0</td>\n",
       "      <td>0</td>\n",
       "      <td>0</td>\n",
       "      <td>No</td>\n",
       "      <td>Private</td>\n",
       "      <td>Urban</td>\n",
       "      <td>110.89</td>\n",
       "      <td>17.6</td>\n",
       "      <td>NaN</td>\n",
       "      <td>0</td>\n",
       "    </tr>\n",
       "    <tr>\n",
       "      <th>3</th>\n",
       "      <td>56543</td>\n",
       "      <td>Female</td>\n",
       "      <td>70.0</td>\n",
       "      <td>0</td>\n",
       "      <td>0</td>\n",
       "      <td>Yes</td>\n",
       "      <td>Private</td>\n",
       "      <td>Rural</td>\n",
       "      <td>69.04</td>\n",
       "      <td>35.9</td>\n",
       "      <td>formerly smoked</td>\n",
       "      <td>0</td>\n",
       "    </tr>\n",
       "    <tr>\n",
       "      <th>4</th>\n",
       "      <td>46136</td>\n",
       "      <td>Male</td>\n",
       "      <td>14.0</td>\n",
       "      <td>0</td>\n",
       "      <td>0</td>\n",
       "      <td>No</td>\n",
       "      <td>Never_worked</td>\n",
       "      <td>Rural</td>\n",
       "      <td>161.28</td>\n",
       "      <td>19.1</td>\n",
       "      <td>NaN</td>\n",
       "      <td>0</td>\n",
       "    </tr>\n",
       "  </tbody>\n",
       "</table>\n",
       "</div>"
      ],
      "text/plain": [
       "      id  gender   age  hypertension  heart_disease ever_married  \\\n",
       "0  30669    Male   3.0             0              0           No   \n",
       "1  30468    Male  58.0             1              0          Yes   \n",
       "2  16523  Female   8.0             0              0           No   \n",
       "3  56543  Female  70.0             0              0          Yes   \n",
       "4  46136    Male  14.0             0              0           No   \n",
       "\n",
       "      work_type Residence_type  avg_glucose_level   bmi   smoking_status  \\\n",
       "0      children          Rural              95.12  18.0              NaN   \n",
       "1       Private          Urban              87.96  39.2     never smoked   \n",
       "2       Private          Urban             110.89  17.6              NaN   \n",
       "3       Private          Rural              69.04  35.9  formerly smoked   \n",
       "4  Never_worked          Rural             161.28  19.1              NaN   \n",
       "\n",
       "   stroke  \n",
       "0       0  \n",
       "1       0  \n",
       "2       0  \n",
       "3       0  \n",
       "4       0  "
      ]
     },
     "execution_count": 3,
     "metadata": {},
     "output_type": "execute_result"
    }
   ],
   "source": [
    "stroke_df.head()"
   ]
  },
  {
   "cell_type": "code",
   "execution_count": 4,
   "id": "8f9c834b",
   "metadata": {},
   "outputs": [
    {
     "name": "stdout",
     "output_type": "stream",
     "text": [
      "Positive Class:  783\n",
      "Negative Class:  42617\n",
      "Percent Positive Class:  1.804147465437788 %\n"
     ]
    }
   ],
   "source": [
    "print(\"Positive Class: \", len(stroke_df[stroke_df[\"stroke\"] == 1]))\n",
    "print(\"Negative Class: \", len(stroke_df[stroke_df[\"stroke\"] == 0]))\n",
    "print(\n",
    "    \"Percent Positive Class: \",\n",
    "    100 * len(stroke_df[stroke_df[\"stroke\"] == 1]) / len(stroke_df),\n",
    "    \"%\",\n",
    ")"
   ]
  },
  {
   "cell_type": "markdown",
   "id": "a6ba6dcf",
   "metadata": {},
   "source": [
    "# Pre-Process"
   ]
  },
  {
   "cell_type": "code",
   "execution_count": 5,
   "id": "717214a1",
   "metadata": {},
   "outputs": [],
   "source": [
    "stroke_df_hot = pd.get_dummies(stroke_df)\n",
    "stroke_df_hot = stroke_df_hot.dropna()\n",
    "X, y = stroke_df_hot.drop([\"id\", \"stroke\"], axis=1), stroke_df_hot[\"stroke\"]\n",
    "X_train, X_test, y_train, y_test = train_test_split(\n",
    "    X, y, test_size=0.33, random_state=42\n",
    ")"
   ]
  },
  {
   "cell_type": "markdown",
   "id": "e7dd19fc",
   "metadata": {},
   "source": [
    "# Build Model"
   ]
  },
  {
   "cell_type": "code",
   "execution_count": 6,
   "id": "15366125",
   "metadata": {},
   "outputs": [],
   "source": [
    "model = GradientBoostingClassifier(random_state=1)\n",
    "\n",
    "model.fit(X_train, y_train)\n",
    "predictions = model.predict(X_test)\n",
    "probabilities = model.predict_proba(X_test)[:, 1]\n",
    "\n",
    "ans = pd.concat([X_test, y_test], axis=1)\n",
    "ans[\"y_pred\"] = predictions\n",
    "ans[\"y_proba\"] = probabilities"
   ]
  },
  {
   "cell_type": "code",
   "execution_count": 7,
   "id": "0b32c3d0",
   "metadata": {},
   "outputs": [
    {
     "name": "stdout",
     "output_type": "stream",
     "text": [
      "Precision:  0.0\n",
      "Recall:  0.0\n",
      "Accuracy:  0.9846098265895954\n",
      "AUROC:  0.839958732960278\n"
     ]
    }
   ],
   "source": [
    "print(\"Precision: \", precision_score(ans[\"stroke\"], ans[\"y_pred\"]))\n",
    "print(\"Recall: \", recall_score(ans[\"stroke\"], ans[\"y_pred\"]))\n",
    "print(\"Accuracy: \", accuracy_score(ans[\"stroke\"], ans[\"y_pred\"]))\n",
    "print(\"AUROC: \", roc_auc_score(ans[\"stroke\"], ans[\"y_proba\"]))"
   ]
  },
  {
   "cell_type": "markdown",
   "id": "37681299",
   "metadata": {},
   "source": [
    "# Vanilla Oversample"
   ]
  },
  {
   "cell_type": "code",
   "execution_count": 8,
   "id": "5f12873d",
   "metadata": {},
   "outputs": [],
   "source": [
    "def randomOversampling(data, response, ratio=None):\n",
    "\n",
    "    \"\"\"\n",
    "    Helper function that performs random over sampling of minority class\n",
    "    data (Pandas DataFrame): Training data containing feature(s) and a response column\n",
    "\n",
    "    response (String): Name of response variable column in data\n",
    "    \"\"\"\n",
    "\n",
    "    X = data.drop(response, axis=1)\n",
    "    Y = data[response]\n",
    "    os = RandomOverSampler(random_state=42)\n",
    "\n",
    "    X_os, Y_os = os.fit_resample(X, Y)\n",
    "\n",
    "    return pd.concat([X_os, Y_os], axis=1)"
   ]
  },
  {
   "cell_type": "code",
   "execution_count": 9,
   "id": "47b763f4",
   "metadata": {},
   "outputs": [],
   "source": [
    "stroke_df_over = randomOversampling(pd.concat([X_train, y_train], axis=1), \"stroke\")"
   ]
  },
  {
   "cell_type": "code",
   "execution_count": 10,
   "id": "59770e47",
   "metadata": {},
   "outputs": [],
   "source": [
    "model = GradientBoostingClassifier(random_state=1)\n",
    "model.fit(stroke_df_over.drop(\"stroke\", axis=1), stroke_df_over[\"stroke\"])\n",
    "predictions = model.predict(X_test)\n",
    "probabilities = model.predict_proba(X_test)[:, 1]\n",
    "\n",
    "ans_over = pd.concat([X_test, y_test], axis=1)\n",
    "ans_over[\"y_pred\"] = predictions\n",
    "ans_over[\"y_proba\"] = probabilities"
   ]
  },
  {
   "cell_type": "code",
   "execution_count": 11,
   "id": "0bdf858a",
   "metadata": {},
   "outputs": [
    {
     "name": "stdout",
     "output_type": "stream",
     "text": [
      "Precision:  0.047238855622089154\n",
      "Recall:  0.6995073891625616\n",
      "Accuracy:  0.7886560693641619\n",
      "AUROC:  0.8338044388798802\n"
     ]
    }
   ],
   "source": [
    "print(\"Precision: \", precision_score(ans_over[\"stroke\"], ans_over[\"y_pred\"]))\n",
    "print(\"Recall: \", recall_score(ans_over[\"stroke\"], ans_over[\"y_pred\"]))\n",
    "print(\"Accuracy: \", accuracy_score(ans_over[\"stroke\"], ans_over[\"y_pred\"]))\n",
    "print(\"AUROC: \", roc_auc_score(ans_over[\"stroke\"], ans_over[\"y_proba\"]))"
   ]
  },
  {
   "cell_type": "markdown",
   "id": "d4e21750",
   "metadata": {},
   "source": [
    "# SMOTE"
   ]
  },
  {
   "cell_type": "code",
   "execution_count": 12,
   "id": "340aa91c",
   "metadata": {},
   "outputs": [],
   "source": [
    "def SMOTEoversampling(data, response):\n",
    "\n",
    "    X = data.drop(response, axis=1)\n",
    "    Y = data[response]\n",
    "\n",
    "    smote = SMOTE(random_state=42)\n",
    "    X_smote, Y_smote = smote.fit_resample(X, Y)\n",
    "\n",
    "    return pd.concat([X_smote, Y_smote], axis=1)"
   ]
  },
  {
   "cell_type": "code",
   "execution_count": 13,
   "id": "5f565bc1",
   "metadata": {},
   "outputs": [],
   "source": [
    "stroke_df_smote = SMOTEoversampling(pd.concat([X_train, y_train], axis=1), \"stroke\")"
   ]
  },
  {
   "cell_type": "code",
   "execution_count": 14,
   "id": "db624afe",
   "metadata": {},
   "outputs": [],
   "source": [
    "model = GradientBoostingClassifier(random_state=1)\n",
    "\n",
    "model.fit(stroke_df_smote.drop(\"stroke\", axis=1), stroke_df_smote[\"stroke\"])\n",
    "predictions = model.predict(X_test)\n",
    "probabilities = model.predict_proba(X_test)[:, 1]\n",
    "\n",
    "ans_smote = pd.concat([X_test, y_test], axis=1)\n",
    "ans_smote[\"y_pred\"] = predictions\n",
    "ans_smote[\"y_proba\"] = probabilities"
   ]
  },
  {
   "cell_type": "code",
   "execution_count": 15,
   "id": "a112ebba",
   "metadata": {},
   "outputs": [
    {
     "name": "stdout",
     "output_type": "stream",
     "text": [
      "Precision:  0.056666666666666664\n",
      "Recall:  0.08374384236453201\n",
      "Accuracy:  0.9661127167630058\n",
      "AUROC:  0.7856554050466151\n"
     ]
    }
   ],
   "source": [
    "print(\"Precision: \", precision_score(ans_smote[\"stroke\"], ans_smote[\"y_pred\"]))\n",
    "print(\"Recall: \", recall_score(ans_smote[\"stroke\"], ans_smote[\"y_pred\"]))\n",
    "print(\"Accuracy: \", accuracy_score(ans_smote[\"stroke\"], ans_smote[\"y_pred\"]))\n",
    "print(\"AUROC: \", roc_auc_score(ans_smote[\"stroke\"], ans_smote[\"y_proba\"]))"
   ]
  },
  {
   "cell_type": "markdown",
   "id": "72997665",
   "metadata": {},
   "source": [
    "# Get Imbalanced Metrics"
   ]
  },
  {
   "cell_type": "code",
   "execution_count": 16,
   "id": "8fcb44d5",
   "metadata": {},
   "outputs": [],
   "source": [
    "from aequilibrium.balance import Balance\n",
    "from aequilibrium.dataset import DataSet\n",
    "from aequilibrium.model import Model\n",
    "from aequilibrium.results import Results\n",
    "from aequilibrium.utils.api_wrapper import (\n",
    "    get_best_results,\n",
    "    train_and_evaluate,\n",
    "    train_models,\n",
    ")\n",
    "from aequilibrium.visualize import Visualize"
   ]
  },
  {
   "cell_type": "markdown",
   "id": "a9d59c26",
   "metadata": {},
   "source": [
    "# Original"
   ]
  },
  {
   "cell_type": "code",
   "execution_count": 17,
   "id": "37b57526",
   "metadata": {},
   "outputs": [],
   "source": [
    "y_true = \"stroke\"\n",
    "y_pred = \"y_pred\"\n",
    "y_proba = \"y_proba\""
   ]
  },
  {
   "cell_type": "code",
   "execution_count": 18,
   "id": "357a98a4",
   "metadata": {},
   "outputs": [
    {
     "name": "stdout",
     "output_type": "stream",
     "text": [
      "WARNING: my_plots directory already existed. Files may have been overwritten.\n"
     ]
    },
    {
     "data": {
      "image/png": "[encoded data removed]",
      "text/plain": [
       "<Figure size 432x288 with 1 Axes>"
      ]
     },
     "metadata": {
      "needs_background": "light"
     },
     "output_type": "display_data"
    },
    {
     "data": {
      "image/png": "[encoded data removed]",
      "text/plain": [
       "<Figure size 432x288 with 2 Axes>"
      ]
     },
     "metadata": {
      "needs_background": "light"
     },
     "output_type": "display_data"
    },
    {
     "data": {
      "image/png": "[encoded data removed]",
      "text/plain": [
       "<Figure size 432x288 with 1 Axes>"
      ]
     },
     "metadata": {
      "needs_background": "light"
     },
     "output_type": "display_data"
    },
    {
     "data": {
      "image/png": "[encoded data removed]",
      "text/plain": [
       "<Figure size 432x288 with 1 Axes>"
      ]
     },
     "metadata": {
      "needs_background": "light"
     },
     "output_type": "display_data"
    }
   ],
   "source": [
    "results_class = Results(ans[y_true], ans[y_pred], ans[y_proba])\n",
    "results_viz = Visualize(results_class, num_decimals=2)\n",
    "measure_df = results_viz.complete_evaluation(save_dir=\"my_plots\")"
   ]
  },
  {
   "cell_type": "code",
   "execution_count": 19,
   "id": "e8acffa0",
   "metadata": {},
   "outputs": [
    {
     "data": {
      "text/html": [
       "<div>\n",
       "<style scoped>\n",
       "    .dataframe tbody tr th:only-of-type {\n",
       "        vertical-align: middle;\n",
       "    }\n",
       "\n",
       "    .dataframe tbody tr th {\n",
       "        vertical-align: top;\n",
       "    }\n",
       "\n",
       "    .dataframe thead th {\n",
       "        text-align: right;\n",
       "    }\n",
       "</style>\n",
       "<table border=\"1\" class=\"dataframe\">\n",
       "  <thead>\n",
       "    <tr style=\"text-align: right;\">\n",
       "      <th></th>\n",
       "      <th>percentile</th>\n",
       "      <th>row_count</th>\n",
       "      <th>pos_count</th>\n",
       "      <th>perc_random_events</th>\n",
       "      <th>perc_actual_events</th>\n",
       "      <th>Model_Lift</th>\n",
       "    </tr>\n",
       "  </thead>\n",
       "  <tbody>\n",
       "    <tr>\n",
       "      <th>0</th>\n",
       "      <td>0.01</td>\n",
       "      <td>139</td>\n",
       "      <td>7</td>\n",
       "      <td>1.0</td>\n",
       "      <td>3.448276</td>\n",
       "      <td>3.448276</td>\n",
       "    </tr>\n",
       "    <tr>\n",
       "      <th>2</th>\n",
       "      <td>0.03</td>\n",
       "      <td>416</td>\n",
       "      <td>32</td>\n",
       "      <td>3.0</td>\n",
       "      <td>15.763547</td>\n",
       "      <td>5.254516</td>\n",
       "    </tr>\n",
       "    <tr>\n",
       "      <th>4</th>\n",
       "      <td>0.05</td>\n",
       "      <td>692</td>\n",
       "      <td>55</td>\n",
       "      <td>5.0</td>\n",
       "      <td>27.093596</td>\n",
       "      <td>5.418719</td>\n",
       "    </tr>\n",
       "    <tr>\n",
       "      <th>19</th>\n",
       "      <td>0.20</td>\n",
       "      <td>2768</td>\n",
       "      <td>144</td>\n",
       "      <td>20.0</td>\n",
       "      <td>70.935961</td>\n",
       "      <td>3.546798</td>\n",
       "    </tr>\n",
       "    <tr>\n",
       "      <th>49</th>\n",
       "      <td>0.50</td>\n",
       "      <td>6920</td>\n",
       "      <td>192</td>\n",
       "      <td>50.0</td>\n",
       "      <td>94.581281</td>\n",
       "      <td>1.891626</td>\n",
       "    </tr>\n",
       "    <tr>\n",
       "      <th>99</th>\n",
       "      <td>1.00</td>\n",
       "      <td>13840</td>\n",
       "      <td>203</td>\n",
       "      <td>100.0</td>\n",
       "      <td>100.000000</td>\n",
       "      <td>1.000000</td>\n",
       "    </tr>\n",
       "  </tbody>\n",
       "</table>\n",
       "</div>"
      ],
      "text/plain": [
       "    percentile  row_count  pos_count  perc_random_events  perc_actual_events  \\\n",
       "0         0.01        139          7                 1.0            3.448276   \n",
       "2         0.03        416         32                 3.0           15.763547   \n",
       "4         0.05        692         55                 5.0           27.093596   \n",
       "19        0.20       2768        144                20.0           70.935961   \n",
       "49        0.50       6920        192                50.0           94.581281   \n",
       "99        1.00      13840        203               100.0          100.000000   \n",
       "\n",
       "    Model_Lift  \n",
       "0     3.448276  \n",
       "2     5.254516  \n",
       "4     5.418719  \n",
       "19    3.546798  \n",
       "49    1.891626  \n",
       "99    1.000000  "
      ]
     },
     "execution_count": 19,
     "metadata": {},
     "output_type": "execute_result"
    }
   ],
   "source": [
    "measure_df[measure_df[\"percentile\"].isin([0.01, 0.03, 0.05, 0.10, 0.20, 0.50, 1.0])][\n",
    "    [\n",
    "        \"percentile\",\n",
    "        \"row_count\",\n",
    "        \"pos_count\",\n",
    "        \"perc_random_events\",\n",
    "        \"perc_actual_events\",\n",
    "        \"Model_Lift\",\n",
    "    ]\n",
    "]"
   ]
  },
  {
   "cell_type": "markdown",
   "id": "b30c16b7",
   "metadata": {},
   "source": [
    "# Vanilla Oversample"
   ]
  },
  {
   "cell_type": "code",
   "execution_count": 20,
   "id": "f556996c",
   "metadata": {},
   "outputs": [
    {
     "name": "stdout",
     "output_type": "stream",
     "text": [
      "WARNING: over_plots directory already existed. Files may have been overwritten.\n"
     ]
    },
    {
     "data": {
      "image/png": "[encoded data removed]",
      "text/plain": [
       "<Figure size 432x288 with 1 Axes>"
      ]
     },
     "metadata": {
      "needs_background": "light"
     },
     "output_type": "display_data"
    },
    {
     "data": {
      "image/png": "[encoded data removed]",
      "text/plain": [
       "<Figure size 432x288 with 2 Axes>"
      ]
     },
     "metadata": {
      "needs_background": "light"
     },
     "output_type": "display_data"
    },
    {
     "data": {
      "image/png": "[encoded data removed]",
      "text/plain": [
       "<Figure size 432x288 with 1 Axes>"
      ]
     },
     "metadata": {
      "needs_background": "light"
     },
     "output_type": "display_data"
    },
    {
     "data": {
      "image/png": "[encoded data removed]",
      "text/plain": [
       "<Figure size 432x288 with 1 Axes>"
      ]
     },
     "metadata": {
      "needs_background": "light"
     },
     "output_type": "display_data"
    }
   ],
   "source": [
    "y_true = \"stroke\"\n",
    "y_pred = \"y_pred\"\n",
    "y_proba = \"y_proba\"\n",
    "\n",
    "over_results_class = Results(ans_over[y_true], ans_over[y_pred], ans_over[y_proba])\n",
    "over_results_viz = Visualize(over_results_class, num_decimals=2)\n",
    "over_measure_df = over_results_viz.complete_evaluation(save_dir=\"over_plots\")"
   ]
  },
  {
   "cell_type": "code",
   "execution_count": 21,
   "id": "a64feed5",
   "metadata": {},
   "outputs": [
    {
     "data": {
      "text/html": [
       "<div>\n",
       "<style scoped>\n",
       "    .dataframe tbody tr th:only-of-type {\n",
       "        vertical-align: middle;\n",
       "    }\n",
       "\n",
       "    .dataframe tbody tr th {\n",
       "        vertical-align: top;\n",
       "    }\n",
       "\n",
       "    .dataframe thead th {\n",
       "        text-align: right;\n",
       "    }\n",
       "</style>\n",
       "<table border=\"1\" class=\"dataframe\">\n",
       "  <thead>\n",
       "    <tr style=\"text-align: right;\">\n",
       "      <th></th>\n",
       "      <th>percentile</th>\n",
       "      <th>row_count</th>\n",
       "      <th>pos_count</th>\n",
       "      <th>perc_random_events</th>\n",
       "      <th>perc_actual_events</th>\n",
       "      <th>Model_Lift</th>\n",
       "    </tr>\n",
       "  </thead>\n",
       "  <tbody>\n",
       "    <tr>\n",
       "      <th>0</th>\n",
       "      <td>0.01</td>\n",
       "      <td>139</td>\n",
       "      <td>13</td>\n",
       "      <td>1.0</td>\n",
       "      <td>6.403941</td>\n",
       "      <td>6.403941</td>\n",
       "    </tr>\n",
       "    <tr>\n",
       "      <th>2</th>\n",
       "      <td>0.03</td>\n",
       "      <td>416</td>\n",
       "      <td>31</td>\n",
       "      <td>3.0</td>\n",
       "      <td>15.270936</td>\n",
       "      <td>5.090312</td>\n",
       "    </tr>\n",
       "    <tr>\n",
       "      <th>4</th>\n",
       "      <td>0.05</td>\n",
       "      <td>692</td>\n",
       "      <td>49</td>\n",
       "      <td>5.0</td>\n",
       "      <td>24.137931</td>\n",
       "      <td>4.827586</td>\n",
       "    </tr>\n",
       "    <tr>\n",
       "      <th>19</th>\n",
       "      <td>0.20</td>\n",
       "      <td>2768</td>\n",
       "      <td>139</td>\n",
       "      <td>20.0</td>\n",
       "      <td>68.472906</td>\n",
       "      <td>3.423645</td>\n",
       "    </tr>\n",
       "    <tr>\n",
       "      <th>49</th>\n",
       "      <td>0.50</td>\n",
       "      <td>6920</td>\n",
       "      <td>191</td>\n",
       "      <td>50.0</td>\n",
       "      <td>94.088670</td>\n",
       "      <td>1.881773</td>\n",
       "    </tr>\n",
       "    <tr>\n",
       "      <th>99</th>\n",
       "      <td>1.00</td>\n",
       "      <td>13840</td>\n",
       "      <td>203</td>\n",
       "      <td>100.0</td>\n",
       "      <td>100.000000</td>\n",
       "      <td>1.000000</td>\n",
       "    </tr>\n",
       "  </tbody>\n",
       "</table>\n",
       "</div>"
      ],
      "text/plain": [
       "    percentile  row_count  pos_count  perc_random_events  perc_actual_events  \\\n",
       "0         0.01        139         13                 1.0            6.403941   \n",
       "2         0.03        416         31                 3.0           15.270936   \n",
       "4         0.05        692         49                 5.0           24.137931   \n",
       "19        0.20       2768        139                20.0           68.472906   \n",
       "49        0.50       6920        191                50.0           94.088670   \n",
       "99        1.00      13840        203               100.0          100.000000   \n",
       "\n",
       "    Model_Lift  \n",
       "0     6.403941  \n",
       "2     5.090312  \n",
       "4     4.827586  \n",
       "19    3.423645  \n",
       "49    1.881773  \n",
       "99    1.000000  "
      ]
     },
     "execution_count": 21,
     "metadata": {},
     "output_type": "execute_result"
    }
   ],
   "source": [
    "over_measure_df[\n",
    "    over_measure_df[\"percentile\"].isin([0.01, 0.03, 0.05, 0.10, 0.20, 0.50, 1.0])\n",
    "][\n",
    "    [\n",
    "        \"percentile\",\n",
    "        \"row_count\",\n",
    "        \"pos_count\",\n",
    "        \"perc_random_events\",\n",
    "        \"perc_actual_events\",\n",
    "        \"Model_Lift\",\n",
    "    ]\n",
    "]"
   ]
  },
  {
   "cell_type": "markdown",
   "id": "50e1ff9a",
   "metadata": {},
   "source": [
    "# SMOTE"
   ]
  },
  {
   "cell_type": "code",
   "execution_count": 22,
   "id": "db27cc04",
   "metadata": {},
   "outputs": [
    {
     "name": "stdout",
     "output_type": "stream",
     "text": [
      "WARNING: smote_plots directory already existed. Files may have been overwritten.\n"
     ]
    },
    {
     "data": {
      "image/png": "[encoded data removed]",
      "text/plain": [
       "<Figure size 432x288 with 1 Axes>"
      ]
     },
     "metadata": {
      "needs_background": "light"
     },
     "output_type": "display_data"
    },
    {
     "data": {
      "image/png": "[encoded data removed]",
      "text/plain": [
       "<Figure size 432x288 with 2 Axes>"
      ]
     },
     "metadata": {
      "needs_background": "light"
     },
     "output_type": "display_data"
    },
    {
     "data": {
      "image/png": "[encoded data removed]",
      "text/plain": [
       "<Figure size 432x288 with 1 Axes>"
      ]
     },
     "metadata": {
      "needs_background": "light"
     },
     "output_type": "display_data"
    },
    {
     "data": {
      "image/png": "[encoded data removed]",
      "text/plain": [
       "<Figure size 432x288 with 1 Axes>"
      ]
     },
     "metadata": {
      "needs_background": "light"
     },
     "output_type": "display_data"
    }
   ],
   "source": [
    "y_true = \"stroke\"\n",
    "y_pred = \"y_pred\"\n",
    "y_proba = \"y_proba\"\n",
    "\n",
    "smote_results_class = Results(ans_smote[y_true], ans_smote[y_pred], ans_smote[y_proba])\n",
    "smote_results_viz = Visualize(smote_results_class, num_decimals=2)\n",
    "smote_measure_df = smote_results_viz.complete_evaluation(save_dir=\"smote_plots\")"
   ]
  },
  {
   "cell_type": "code",
   "execution_count": 23,
   "id": "c31c4f5f",
   "metadata": {},
   "outputs": [
    {
     "data": {
      "text/html": [
       "<div>\n",
       "<style scoped>\n",
       "    .dataframe tbody tr th:only-of-type {\n",
       "        vertical-align: middle;\n",
       "    }\n",
       "\n",
       "    .dataframe tbody tr th {\n",
       "        vertical-align: top;\n",
       "    }\n",
       "\n",
       "    .dataframe thead th {\n",
       "        text-align: right;\n",
       "    }\n",
       "</style>\n",
       "<table border=\"1\" class=\"dataframe\">\n",
       "  <thead>\n",
       "    <tr style=\"text-align: right;\">\n",
       "      <th></th>\n",
       "      <th>percentile</th>\n",
       "      <th>row_count</th>\n",
       "      <th>pos_count</th>\n",
       "      <th>perc_random_events</th>\n",
       "      <th>perc_actual_events</th>\n",
       "      <th>Model_Lift</th>\n",
       "    </tr>\n",
       "  </thead>\n",
       "  <tbody>\n",
       "    <tr>\n",
       "      <th>0</th>\n",
       "      <td>0.01</td>\n",
       "      <td>139</td>\n",
       "      <td>7</td>\n",
       "      <td>1.0</td>\n",
       "      <td>3.448276</td>\n",
       "      <td>3.448276</td>\n",
       "    </tr>\n",
       "    <tr>\n",
       "      <th>2</th>\n",
       "      <td>0.03</td>\n",
       "      <td>416</td>\n",
       "      <td>24</td>\n",
       "      <td>3.0</td>\n",
       "      <td>11.822660</td>\n",
       "      <td>3.940887</td>\n",
       "    </tr>\n",
       "    <tr>\n",
       "      <th>4</th>\n",
       "      <td>0.05</td>\n",
       "      <td>692</td>\n",
       "      <td>34</td>\n",
       "      <td>5.0</td>\n",
       "      <td>16.748768</td>\n",
       "      <td>3.349754</td>\n",
       "    </tr>\n",
       "    <tr>\n",
       "      <th>19</th>\n",
       "      <td>0.20</td>\n",
       "      <td>2768</td>\n",
       "      <td>112</td>\n",
       "      <td>20.0</td>\n",
       "      <td>55.172414</td>\n",
       "      <td>2.758621</td>\n",
       "    </tr>\n",
       "    <tr>\n",
       "      <th>49</th>\n",
       "      <td>0.50</td>\n",
       "      <td>6920</td>\n",
       "      <td>191</td>\n",
       "      <td>50.0</td>\n",
       "      <td>94.088670</td>\n",
       "      <td>1.881773</td>\n",
       "    </tr>\n",
       "    <tr>\n",
       "      <th>99</th>\n",
       "      <td>1.00</td>\n",
       "      <td>13840</td>\n",
       "      <td>203</td>\n",
       "      <td>100.0</td>\n",
       "      <td>100.000000</td>\n",
       "      <td>1.000000</td>\n",
       "    </tr>\n",
       "  </tbody>\n",
       "</table>\n",
       "</div>"
      ],
      "text/plain": [
       "    percentile  row_count  pos_count  perc_random_events  perc_actual_events  \\\n",
       "0         0.01        139          7                 1.0            3.448276   \n",
       "2         0.03        416         24                 3.0           11.822660   \n",
       "4         0.05        692         34                 5.0           16.748768   \n",
       "19        0.20       2768        112                20.0           55.172414   \n",
       "49        0.50       6920        191                50.0           94.088670   \n",
       "99        1.00      13840        203               100.0          100.000000   \n",
       "\n",
       "    Model_Lift  \n",
       "0     3.448276  \n",
       "2     3.940887  \n",
       "4     3.349754  \n",
       "19    2.758621  \n",
       "49    1.881773  \n",
       "99    1.000000  "
      ]
     },
     "execution_count": 23,
     "metadata": {},
     "output_type": "execute_result"
    }
   ],
   "source": [
    "smote_measure_df[\n",
    "    smote_measure_df[\"percentile\"].isin([0.01, 0.03, 0.05, 0.10, 0.20, 0.50, 1.0])\n",
    "][\n",
    "    [\n",
    "        \"percentile\",\n",
    "        \"row_count\",\n",
    "        \"pos_count\",\n",
    "        \"perc_random_events\",\n",
    "        \"perc_actual_events\",\n",
    "        \"Model_Lift\",\n",
    "    ]\n",
    "]"
   ]
  },
  {
   "cell_type": "markdown",
   "id": "8df17305",
   "metadata": {},
   "source": [
    "# Business Case Example"
   ]
  },
  {
   "cell_type": "code",
   "execution_count": 24,
   "id": "88774a0d",
   "metadata": {},
   "outputs": [
    {
     "data": {
      "text/html": [
       "<div>\n",
       "<style scoped>\n",
       "    .dataframe tbody tr th:only-of-type {\n",
       "        vertical-align: middle;\n",
       "    }\n",
       "\n",
       "    .dataframe tbody tr th {\n",
       "        vertical-align: top;\n",
       "    }\n",
       "\n",
       "    .dataframe thead th {\n",
       "        text-align: right;\n",
       "    }\n",
       "</style>\n",
       "<table border=\"1\" class=\"dataframe\">\n",
       "  <thead>\n",
       "    <tr style=\"text-align: right;\">\n",
       "      <th></th>\n",
       "      <th>percentile</th>\n",
       "      <th>row_count</th>\n",
       "      <th>pos_count</th>\n",
       "      <th>perc_random_events</th>\n",
       "      <th>perc_actual_events</th>\n",
       "      <th>Model_Lift</th>\n",
       "    </tr>\n",
       "  </thead>\n",
       "  <tbody>\n",
       "    <tr>\n",
       "      <th>2</th>\n",
       "      <td>0.03</td>\n",
       "      <td>416</td>\n",
       "      <td>32</td>\n",
       "      <td>3.0</td>\n",
       "      <td>15.763547</td>\n",
       "      <td>5.254516</td>\n",
       "    </tr>\n",
       "  </tbody>\n",
       "</table>\n",
       "</div>"
      ],
      "text/plain": [
       "   percentile  row_count  pos_count  perc_random_events  perc_actual_events  \\\n",
       "2        0.03        416         32                 3.0           15.763547   \n",
       "\n",
       "   Model_Lift  \n",
       "2    5.254516  "
      ]
     },
     "execution_count": 24,
     "metadata": {},
     "output_type": "execute_result"
    }
   ],
   "source": [
    "intervene_df = measure_df[measure_df[\"percentile\"].isin([0.03])][\n",
    "    [\n",
    "        \"percentile\",\n",
    "        \"row_count\",\n",
    "        \"pos_count\",\n",
    "        \"perc_random_events\",\n",
    "        \"perc_actual_events\",\n",
    "        \"Model_Lift\",\n",
    "    ]\n",
    "]\n",
    "intervene_df"
   ]
  },
  {
   "cell_type": "code",
   "execution_count": 25,
   "id": "10e63fa6",
   "metadata": {},
   "outputs": [
    {
     "data": {
      "text/html": [
       "<div>\n",
       "<style scoped>\n",
       "    .dataframe tbody tr th:only-of-type {\n",
       "        vertical-align: middle;\n",
       "    }\n",
       "\n",
       "    .dataframe tbody tr th {\n",
       "        vertical-align: top;\n",
       "    }\n",
       "\n",
       "    .dataframe thead th {\n",
       "        text-align: right;\n",
       "    }\n",
       "</style>\n",
       "<table border=\"1\" class=\"dataframe\">\n",
       "  <thead>\n",
       "    <tr style=\"text-align: right;\">\n",
       "      <th></th>\n",
       "      <th>percentile</th>\n",
       "      <th>row_count</th>\n",
       "      <th>pos_count</th>\n",
       "      <th>perc_random_events</th>\n",
       "      <th>perc_actual_events</th>\n",
       "      <th>Model_Lift</th>\n",
       "      <th>TotalNum_Called</th>\n",
       "      <th>TotalNum_Reached</th>\n",
       "      <th>TotalCost</th>\n",
       "    </tr>\n",
       "  </thead>\n",
       "  <tbody>\n",
       "    <tr>\n",
       "      <th>2</th>\n",
       "      <td>0.03</td>\n",
       "      <td>416</td>\n",
       "      <td>32</td>\n",
       "      <td>3.0</td>\n",
       "      <td>15.763547</td>\n",
       "      <td>5.254516</td>\n",
       "      <td>416</td>\n",
       "      <td>125.0</td>\n",
       "      <td>832</td>\n",
       "    </tr>\n",
       "  </tbody>\n",
       "</table>\n",
       "</div>"
      ],
      "text/plain": [
       "   percentile  row_count  pos_count  perc_random_events  perc_actual_events  \\\n",
       "2        0.03        416         32                 3.0           15.763547   \n",
       "\n",
       "   Model_Lift  TotalNum_Called  TotalNum_Reached  TotalCost  \n",
       "2    5.254516              416             125.0        832  "
      ]
     },
     "execution_count": 25,
     "metadata": {},
     "output_type": "execute_result"
    }
   ],
   "source": [
    "reach_rate = 0.30\n",
    "cost_of_call = 2\n",
    "\n",
    "intervene_df[\"TotalNum_Called\"] = intervene_df[\"row_count\"]\n",
    "intervene_df[\"TotalNum_Reached\"] = round(intervene_df[\"row_count\"] * reach_rate)\n",
    "intervene_df[\"TotalCost\"] = intervene_df[\"TotalNum_Called\"] * cost_of_call\n",
    "\n",
    "intervene_df"
   ]
  },
  {
   "cell_type": "code",
   "execution_count": 26,
   "id": "2f175561",
   "metadata": {},
   "outputs": [
    {
     "data": {
      "text/html": [
       "<div>\n",
       "<style scoped>\n",
       "    .dataframe tbody tr th:only-of-type {\n",
       "        vertical-align: middle;\n",
       "    }\n",
       "\n",
       "    .dataframe tbody tr th {\n",
       "        vertical-align: top;\n",
       "    }\n",
       "\n",
       "    .dataframe thead th {\n",
       "        text-align: right;\n",
       "    }\n",
       "</style>\n",
       "<table border=\"1\" class=\"dataframe\">\n",
       "  <thead>\n",
       "    <tr style=\"text-align: right;\">\n",
       "      <th></th>\n",
       "      <th>percentile</th>\n",
       "      <th>row_count</th>\n",
       "      <th>pos_count</th>\n",
       "      <th>perc_random_events</th>\n",
       "      <th>perc_actual_events</th>\n",
       "      <th>Model_Lift</th>\n",
       "      <th>TotalNum_Called</th>\n",
       "      <th>TotalNum_Reached</th>\n",
       "      <th>TotalCost</th>\n",
       "      <th>TotalNum_Participate</th>\n",
       "      <th>TotalNum_Participate_wStroke</th>\n",
       "      <th>TotalStrokesReduced</th>\n",
       "    </tr>\n",
       "  </thead>\n",
       "  <tbody>\n",
       "    <tr>\n",
       "      <th>2</th>\n",
       "      <td>0.03</td>\n",
       "      <td>416</td>\n",
       "      <td>32</td>\n",
       "      <td>3.0</td>\n",
       "      <td>15.763547</td>\n",
       "      <td>5.254516</td>\n",
       "      <td>416</td>\n",
       "      <td>125.0</td>\n",
       "      <td>832</td>\n",
       "      <td>125.0</td>\n",
       "      <td>10.0</td>\n",
       "      <td>3.0</td>\n",
       "    </tr>\n",
       "  </tbody>\n",
       "</table>\n",
       "</div>"
      ],
      "text/plain": [
       "   percentile  row_count  pos_count  perc_random_events  perc_actual_events  \\\n",
       "2        0.03        416         32                 3.0           15.763547   \n",
       "\n",
       "   Model_Lift  TotalNum_Called  TotalNum_Reached  TotalCost  \\\n",
       "2    5.254516              416             125.0        832   \n",
       "\n",
       "   TotalNum_Participate  TotalNum_Participate_wStroke  TotalStrokesReduced  \n",
       "2                 125.0                          10.0                  3.0  "
      ]
     },
     "execution_count": 26,
     "metadata": {},
     "output_type": "execute_result"
    }
   ],
   "source": [
    "participation_rate = 1.00\n",
    "stroke_reduction_rate = 0.3\n",
    "\n",
    "intervene_df[\"TotalNum_Participate\"] = round(\n",
    "    intervene_df[\"TotalNum_Reached\"] * participation_rate\n",
    ")\n",
    "intervene_df[\"TotalNum_Participate_wStroke\"] = round(\n",
    "    intervene_df[\"TotalNum_Participate\"]\n",
    "    * (intervene_df[\"pos_count\"] / intervene_df[\"row_count\"])\n",
    ")\n",
    "intervene_df[\"TotalStrokesReduced\"] = round(\n",
    "    intervene_df[\"TotalNum_Participate_wStroke\"] * stroke_reduction_rate\n",
    ")\n",
    "\n",
    "intervene_df"
   ]
  },
  {
   "cell_type": "code",
   "execution_count": null,
   "id": "b2348c2e",
   "metadata": {},
   "outputs": [],
   "source": []
  }
 ],
 "metadata": {
  "kernelspec": {
   "display_name": "Python 3",
   "language": "python",
   "name": "python3"
  },
  "language_info": {
   "codemirror_mode": {
    "name": "ipython",
    "version": 3
   },
   "file_extension": ".py",
   "mimetype": "text/x-python",
   "name": "python",
   "nbconvert_exporter": "python",
   "pygments_lexer": "ipython3",
   "version": "3.7.11"
  }
 },
 "nbformat": 4,
 "nbformat_minor": 5
}
